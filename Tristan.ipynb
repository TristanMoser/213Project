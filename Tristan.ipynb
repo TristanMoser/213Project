{
 "cells": [
  {
   "cell_type": "code",
   "execution_count": 2,
   "metadata": {
    "collapsed": true
   },
   "outputs": [],
   "source": [
    "import pandas as pd\n",
    "import numpy as np\n",
    "import seaborn as sns\n",
    "from sklearn.cluster import KMeans\n",
    "import ast\n",
    "from gensim.models import Word2Vec\n",
    "pd.options.mode.chained_assignment = None\n",
    "\n",
    "from sklearn.manifold import TSNE\n",
    "import matplotlib.pyplot as plt\n",
    "%matplotlib inline"
   ]
  },
  {
   "cell_type": "code",
   "execution_count": 3,
   "metadata": {
    "collapsed": true
   },
   "outputs": [],
   "source": [
    "data = pd.read_csv(\"/Users/tristanmoser/Files/Coding/Machine_Learning/Project/ted_main.csv\")"
   ]
  },
  {
   "cell_type": "code",
   "execution_count": 4,
   "metadata": {},
   "outputs": [
    {
     "data": {
      "text/plain": [
       "2156"
      ]
     },
     "execution_count": 4,
     "metadata": {},
     "output_type": "execute_result"
    }
   ],
   "source": [
    "len(data['main_speaker'].unique())"
   ]
  },
  {
   "cell_type": "code",
   "execution_count": 5,
   "metadata": {},
   "outputs": [
    {
     "data": {
      "text/html": [
       "<div>\n",
       "<style>\n",
       "    .dataframe thead tr:only-child th {\n",
       "        text-align: right;\n",
       "    }\n",
       "\n",
       "    .dataframe thead th {\n",
       "        text-align: left;\n",
       "    }\n",
       "\n",
       "    .dataframe tbody tr th {\n",
       "        vertical-align: top;\n",
       "    }\n",
       "</style>\n",
       "<table border=\"1\" class=\"dataframe\">\n",
       "  <thead>\n",
       "    <tr style=\"text-align: right;\">\n",
       "      <th></th>\n",
       "      <th>comments</th>\n",
       "      <th>description</th>\n",
       "      <th>duration</th>\n",
       "      <th>event</th>\n",
       "      <th>film_date</th>\n",
       "      <th>languages</th>\n",
       "      <th>main_speaker</th>\n",
       "      <th>name</th>\n",
       "      <th>num_speaker</th>\n",
       "      <th>published_date</th>\n",
       "      <th>ratings</th>\n",
       "      <th>related_talks</th>\n",
       "      <th>speaker_occupation</th>\n",
       "      <th>tags</th>\n",
       "      <th>title</th>\n",
       "      <th>url</th>\n",
       "      <th>views</th>\n",
       "    </tr>\n",
       "  </thead>\n",
       "  <tbody>\n",
       "    <tr>\n",
       "      <th>0</th>\n",
       "      <td>4553</td>\n",
       "      <td>Sir Ken Robinson makes an entertaining and pro...</td>\n",
       "      <td>1164</td>\n",
       "      <td>TED2006</td>\n",
       "      <td>1140825600</td>\n",
       "      <td>60</td>\n",
       "      <td>Ken Robinson</td>\n",
       "      <td>Ken Robinson: Do schools kill creativity?</td>\n",
       "      <td>1</td>\n",
       "      <td>1151367060</td>\n",
       "      <td>[{'id': 7, 'name': 'Funny', 'count': 19645}, {...</td>\n",
       "      <td>[{'id': 865, 'hero': 'https://pe.tedcdn.com/im...</td>\n",
       "      <td>Author/educator</td>\n",
       "      <td>['children', 'creativity', 'culture', 'dance',...</td>\n",
       "      <td>Do schools kill creativity?</td>\n",
       "      <td>https://www.ted.com/talks/ken_robinson_says_sc...</td>\n",
       "      <td>47227110</td>\n",
       "    </tr>\n",
       "  </tbody>\n",
       "</table>\n",
       "</div>"
      ],
      "text/plain": [
       "   comments                                        description  duration  \\\n",
       "0      4553  Sir Ken Robinson makes an entertaining and pro...      1164   \n",
       "\n",
       "     event   film_date  languages  main_speaker  \\\n",
       "0  TED2006  1140825600         60  Ken Robinson   \n",
       "\n",
       "                                        name  num_speaker  published_date  \\\n",
       "0  Ken Robinson: Do schools kill creativity?            1      1151367060   \n",
       "\n",
       "                                             ratings  \\\n",
       "0  [{'id': 7, 'name': 'Funny', 'count': 19645}, {...   \n",
       "\n",
       "                                       related_talks speaker_occupation  \\\n",
       "0  [{'id': 865, 'hero': 'https://pe.tedcdn.com/im...    Author/educator   \n",
       "\n",
       "                                                tags  \\\n",
       "0  ['children', 'creativity', 'culture', 'dance',...   \n",
       "\n",
       "                         title  \\\n",
       "0  Do schools kill creativity?   \n",
       "\n",
       "                                                 url     views  \n",
       "0  https://www.ted.com/talks/ken_robinson_says_sc...  47227110  "
      ]
     },
     "execution_count": 5,
     "metadata": {},
     "output_type": "execute_result"
    }
   ],
   "source": [
    "data.head(1)"
   ]
  },
  {
   "cell_type": "markdown",
   "metadata": {},
   "source": [
    "## Ratings"
   ]
  },
  {
   "cell_type": "code",
   "execution_count": 6,
   "metadata": {},
   "outputs": [
    {
     "data": {
      "text/plain": [
       "\"[{'id': 7, 'name': 'Funny', 'count': 19645}, {'id': 1, 'name': 'Beautiful', 'count': 4573}, {'id': 9, 'name': 'Ingenious', 'count': 6073}, {'id': 3, 'name': 'Courageous', 'count': 3253}, {'id': 11, 'name': 'Longwinded', 'count': 387}, {'id': 2, 'name': 'Confusing', 'count': 242}, {'id': 8, 'name': 'Informative', 'count': 7346}, {'id': 22, 'name': 'Fascinating', 'count': 10581}, {'id': 21, 'name': 'Unconvincing', 'count': 300}, {'id': 24, 'name': 'Persuasive', 'count': 10704}, {'id': 23, 'name': 'Jaw-dropping', 'count': 4439}, {'id': 25, 'name': 'OK', 'count': 1174}, {'id': 26, 'name': 'Obnoxious', 'count': 209}, {'id': 10, 'name': 'Inspiring', 'count': 24924}]\""
      ]
     },
     "execution_count": 6,
     "metadata": {},
     "output_type": "execute_result"
    }
   ],
   "source": [
    "data['ratings'][0]"
   ]
  },
  {
   "cell_type": "code",
   "execution_count": 7,
   "metadata": {
    "collapsed": true
   },
   "outputs": [],
   "source": [
    "ratings = ['Funny', 'Beautiful', 'Ingenious', 'Courageous', 'Longwinded', 'Confusing',\n",
    "           'Informative', 'Fascinating', 'Unconvincing', 'Persuasive', 'Jaw-dropping', 'OK',\n",
    "           'Obnoxious', 'Inspiring']"
   ]
  },
  {
   "cell_type": "code",
   "execution_count": 8,
   "metadata": {
    "collapsed": true
   },
   "outputs": [],
   "source": [
    "rate = []\n",
    "def parse(x):\n",
    "    for ll in range(len(data)):\n",
    "        splitting = data['ratings'][ll].split(x)\n",
    "        splitting2 = splitting[1].split(':')\n",
    "        splitting3 = splitting2[1].split(\" \")\n",
    "        splitting4 = splitting3[1].split(\"}\")\n",
    "        rate.append(splitting4[0])\n",
    "        series = pd.Series(rate)\n",
    "        data[x] = series"
   ]
  },
  {
   "cell_type": "code",
   "execution_count": 9,
   "metadata": {
    "collapsed": true
   },
   "outputs": [],
   "source": [
    "for rating in ratings:\n",
    "    parse(rating)\n",
    "    rate.clear()"
   ]
  },
  {
   "cell_type": "code",
   "execution_count": 10,
   "metadata": {},
   "outputs": [
    {
     "data": {
      "text/html": [
       "<div>\n",
       "<style>\n",
       "    .dataframe thead tr:only-child th {\n",
       "        text-align: right;\n",
       "    }\n",
       "\n",
       "    .dataframe thead th {\n",
       "        text-align: left;\n",
       "    }\n",
       "\n",
       "    .dataframe tbody tr th {\n",
       "        vertical-align: top;\n",
       "    }\n",
       "</style>\n",
       "<table border=\"1\" class=\"dataframe\">\n",
       "  <thead>\n",
       "    <tr style=\"text-align: right;\">\n",
       "      <th></th>\n",
       "      <th>Funny</th>\n",
       "      <th>Beautiful</th>\n",
       "      <th>Ingenious</th>\n",
       "      <th>Courageous</th>\n",
       "      <th>Longwinded</th>\n",
       "      <th>Confusing</th>\n",
       "      <th>Informative</th>\n",
       "      <th>Fascinating</th>\n",
       "      <th>Unconvincing</th>\n",
       "      <th>Persuasive</th>\n",
       "      <th>Jaw-dropping</th>\n",
       "      <th>OK</th>\n",
       "      <th>Obnoxious</th>\n",
       "      <th>Inspiring</th>\n",
       "    </tr>\n",
       "  </thead>\n",
       "  <tbody>\n",
       "    <tr>\n",
       "      <th>0</th>\n",
       "      <td>19645</td>\n",
       "      <td>4573</td>\n",
       "      <td>6073</td>\n",
       "      <td>3253</td>\n",
       "      <td>387</td>\n",
       "      <td>242</td>\n",
       "      <td>7346</td>\n",
       "      <td>10581</td>\n",
       "      <td>300</td>\n",
       "      <td>10704</td>\n",
       "      <td>4439</td>\n",
       "      <td>1174</td>\n",
       "      <td>209</td>\n",
       "      <td>24924</td>\n",
       "    </tr>\n",
       "    <tr>\n",
       "      <th>1</th>\n",
       "      <td>544</td>\n",
       "      <td>58</td>\n",
       "      <td>56</td>\n",
       "      <td>139</td>\n",
       "      <td>113</td>\n",
       "      <td>62</td>\n",
       "      <td>443</td>\n",
       "      <td>132</td>\n",
       "      <td>258</td>\n",
       "      <td>268</td>\n",
       "      <td>116</td>\n",
       "      <td>203</td>\n",
       "      <td>131</td>\n",
       "      <td>413</td>\n",
       "    </tr>\n",
       "    <tr>\n",
       "      <th>2</th>\n",
       "      <td>964</td>\n",
       "      <td>60</td>\n",
       "      <td>183</td>\n",
       "      <td>45</td>\n",
       "      <td>78</td>\n",
       "      <td>27</td>\n",
       "      <td>395</td>\n",
       "      <td>166</td>\n",
       "      <td>104</td>\n",
       "      <td>230</td>\n",
       "      <td>54</td>\n",
       "      <td>146</td>\n",
       "      <td>142</td>\n",
       "      <td>230</td>\n",
       "    </tr>\n",
       "    <tr>\n",
       "      <th>3</th>\n",
       "      <td>59</td>\n",
       "      <td>291</td>\n",
       "      <td>105</td>\n",
       "      <td>760</td>\n",
       "      <td>53</td>\n",
       "      <td>32</td>\n",
       "      <td>380</td>\n",
       "      <td>132</td>\n",
       "      <td>36</td>\n",
       "      <td>460</td>\n",
       "      <td>230</td>\n",
       "      <td>85</td>\n",
       "      <td>35</td>\n",
       "      <td>1070</td>\n",
       "    </tr>\n",
       "    <tr>\n",
       "      <th>4</th>\n",
       "      <td>1390</td>\n",
       "      <td>942</td>\n",
       "      <td>3202</td>\n",
       "      <td>318</td>\n",
       "      <td>110</td>\n",
       "      <td>72</td>\n",
       "      <td>5433</td>\n",
       "      <td>4606</td>\n",
       "      <td>67</td>\n",
       "      <td>2542</td>\n",
       "      <td>3736</td>\n",
       "      <td>248</td>\n",
       "      <td>61</td>\n",
       "      <td>2893</td>\n",
       "    </tr>\n",
       "  </tbody>\n",
       "</table>\n",
       "</div>"
      ],
      "text/plain": [
       "   Funny Beautiful Ingenious Courageous Longwinded Confusing Informative  \\\n",
       "0  19645      4573      6073       3253        387       242        7346   \n",
       "1    544        58        56        139        113        62         443   \n",
       "2    964        60       183         45         78        27         395   \n",
       "3     59       291       105        760         53        32         380   \n",
       "4   1390       942      3202        318        110        72        5433   \n",
       "\n",
       "  Fascinating Unconvincing Persuasive Jaw-dropping    OK Obnoxious Inspiring  \n",
       "0       10581          300      10704         4439  1174       209     24924  \n",
       "1         132          258        268          116   203       131       413  \n",
       "2         166          104        230           54   146       142       230  \n",
       "3         132           36        460          230    85        35      1070  \n",
       "4        4606           67       2542         3736   248        61      2893  "
      ]
     },
     "execution_count": 10,
     "metadata": {},
     "output_type": "execute_result"
    }
   ],
   "source": [
    "data[ratings].head()"
   ]
  },
  {
   "cell_type": "markdown",
   "metadata": {},
   "source": [
    "## Tags"
   ]
  },
  {
   "cell_type": "code",
   "execution_count": 11,
   "metadata": {},
   "outputs": [
    {
     "data": {
      "text/plain": [
       "0    ['children', 'creativity', 'culture', 'dance',...\n",
       "1    ['alternative energy', 'cars', 'climate change...\n",
       "2    ['computers', 'entertainment', 'interface desi...\n",
       "3    ['MacArthur grant', 'activism', 'business', 'c...\n",
       "4    ['Africa', 'Asia', 'Google', 'demo', 'economic...\n",
       "Name: tags, dtype: object"
      ]
     },
     "execution_count": 11,
     "metadata": {},
     "output_type": "execute_result"
    }
   ],
   "source": [
    "data['tags'].head()"
   ]
  },
  {
   "cell_type": "code",
   "execution_count": 12,
   "metadata": {},
   "outputs": [
    {
     "data": {
      "text/plain": [
       "\"['Christianity', 'God', 'culture', 'happiness', 'leadership', 'motivation', 'philanthropy', 'religion']\""
      ]
     },
     "execution_count": 12,
     "metadata": {},
     "output_type": "execute_result"
    }
   ],
   "source": [
    "data['tags'][9]"
   ]
  },
  {
   "cell_type": "code",
   "execution_count": 13,
   "metadata": {},
   "outputs": [
    {
     "data": {
      "text/plain": [
       "['Christianity',\n",
       " 'God',\n",
       " 'culture',\n",
       " 'happiness',\n",
       " 'leadership',\n",
       " 'motivation',\n",
       " 'philanthropy',\n",
       " 'religion']"
      ]
     },
     "execution_count": 13,
     "metadata": {},
     "output_type": "execute_result"
    }
   ],
   "source": [
    "ast.literal_eval(data['tags'][9])"
   ]
  },
  {
   "cell_type": "code",
   "execution_count": 14,
   "metadata": {
    "collapsed": true
   },
   "outputs": [],
   "source": [
    "destring = []\n",
    "for number in range(len(data)):\n",
    "    destring.append(ast.literal_eval(data['tags'][number]))\n",
    "data['Tags'] = pd.Series(destring)"
   ]
  },
  {
   "cell_type": "code",
   "execution_count": 15,
   "metadata": {},
   "outputs": [
    {
     "data": {
      "text/plain": [
       "['Christianity',\n",
       " 'God',\n",
       " 'culture',\n",
       " 'happiness',\n",
       " 'leadership',\n",
       " 'motivation',\n",
       " 'philanthropy',\n",
       " 'religion']"
      ]
     },
     "execution_count": 15,
     "metadata": {},
     "output_type": "execute_result"
    }
   ],
   "source": [
    "data['Tags'][9]"
   ]
  },
  {
   "cell_type": "code",
   "execution_count": 16,
   "metadata": {},
   "outputs": [
    {
     "data": {
      "text/plain": [
       "'Christianity'"
      ]
     },
     "execution_count": 16,
     "metadata": {},
     "output_type": "execute_result"
    }
   ],
   "source": [
    "data['Tags'][9][0]"
   ]
  },
  {
   "cell_type": "code",
   "execution_count": 17,
   "metadata": {},
   "outputs": [
    {
     "data": {
      "text/plain": [
       "1"
      ]
     },
     "execution_count": 17,
     "metadata": {},
     "output_type": "execute_result"
    }
   ],
   "source": [
    "data['Tags'][9].count(\"Christianity\")"
   ]
  },
  {
   "cell_type": "code",
   "execution_count": 18,
   "metadata": {
    "collapsed": true
   },
   "outputs": [],
   "source": [
    "all_tags = []\n",
    "for items in data['Tags']:\n",
    "    all_tags.extend(items)"
   ]
  },
  {
   "cell_type": "code",
   "execution_count": null,
   "metadata": {
    "collapsed": true
   },
   "outputs": [],
   "source": [
    "#simplify = {\"children\":\"family\",\"creativity\":'','culture':'',\"dance\":'', \"education\":'', \"parenting\":\"family\",\n",
    "#            \"teaching\":'education','alternative energy':'','cars':'','climate change': 'environment',\n",
    "#            'global issues':'','science':'',}"
   ]
  },
  {
   "cell_type": "code",
   "execution_count": 19,
   "metadata": {},
   "outputs": [
    {
     "name": "stdout",
     "output_type": "stream",
     "text": [
      "416\n"
     ]
    }
   ],
   "source": [
    "all_tags = pd.Series(all_tags)\n",
    "print(len(all_tags.unique()))\n",
    "unique = all_tags.unique()"
   ]
  },
  {
   "cell_type": "code",
   "execution_count": null,
   "metadata": {
    "collapsed": true
   },
   "outputs": [],
   "source": [
    "#This will create a column for each tag indicating that the talk has that tag\n",
    "\n",
    "\"\"\"pd.options.mode.chained_assignment = None\n",
    "for tags in unique:\n",
    "    data[tags+'_tag'] = 0\n",
    "    for item in range(len(data['Tags'])):\n",
    "        if data['Tags'][item].count(tags) >0:\n",
    "            data[tags+'_tag'][item] = 1\"\"\""
   ]
  },
  {
   "cell_type": "markdown",
   "metadata": {},
   "source": [
    "### Word2Vec"
   ]
  },
  {
   "cell_type": "code",
   "execution_count": 20,
   "metadata": {
    "collapsed": true
   },
   "outputs": [],
   "source": [
    "model = Word2Vec(destring, min_count=5)"
   ]
  },
  {
   "cell_type": "code",
   "execution_count": 21,
   "metadata": {},
   "outputs": [
    {
     "name": "stdout",
     "output_type": "stream",
     "text": [
      "Word2Vec(vocab=385, size=100, alpha=0.025)\n"
     ]
    }
   ],
   "source": [
    "print(model)"
   ]
  },
  {
   "cell_type": "code",
   "execution_count": null,
   "metadata": {
    "collapsed": true
   },
   "outputs": [],
   "source": [
    "simplify = {\"children\":\"family\",\"creativity\":'','culture':'',\"dance\":'', \"education\":'', \"parenting\":\"family\",\n",
    "            \n",
    "            \"teaching\":'education','alternative energy':'','cars':'','climate change': 'environment',\n",
    "            \n",
    "            'global issues':'','science':'',}"
   ]
  },
  {
   "cell_type": "code",
   "execution_count": 22,
   "metadata": {},
   "outputs": [
    {
     "name": "stdout",
     "output_type": "stream",
     "text": [
      "['children', 'creativity', 'culture', 'dance', 'education', 'parenting', 'teaching', 'alternative energy', 'cars', 'climate change', 'environment', 'global issues', 'science', 'sustainability', 'technology', 'computers', 'entertainment', 'interface design', 'media', 'music', 'performance', 'simplicity', 'software', 'MacArthur grant', 'activism', 'business', 'cities', 'green', 'inequality', 'politics', 'pollution', 'Africa', 'Asia', 'Google', 'demo', 'economics', 'global development', 'health', 'math', 'statistics', 'visualizations', 'goal-setting', 'motivation', 'potential', 'psychology', 'Christianity', 'God', 'atheism', 'comedy', 'humor', 'religion', 'storytelling', 'architecture', 'collaboration', 'design', 'library', 'TED Brain Trust', 'brain', 'cognitive science', 'consciousness', 'evolution', 'philosophy', 'happiness', 'leadership', 'philanthropy', 'disaster relief', 'invention', 'open-source', 'TED Prize', 'art', 'film', 'movies', 'peace', 'social change', 'disease', 'ebola', 'entrepreneur', 'violin', 'wunderkind', 'youth', 'piano', 'engineering', 'industrial design', 'DNA', 'biology', 'nature', 'product design', 'science and art', 'wikipedia', 'community', 'communication', 'gender', 'love', 'relationships', 'theater', 'women', 'cosmos', 'physics', 'universe', 'astronomy', 'narcotics', 'race', 'choice', 'consumerism', 'food', 'marketing', 'decision-making', 'personal growth', 'cancer', 'aging', 'biotech', 'future', 'health care', 'investment', 'poverty', 'telecom', 'transportation', 'corruption', 'military', 'policy', 'NASA', 'aircraft', 'flight', 'rocket science', 'exploration', 'sports', 'travel', 'AIDS', 'photography', 'medicine', 'genetics', 'faith', 'illusion', 'robots', 'history', 'success', 'work', 'poetry', 'obesity', 'anthropology', 'language', 'complexity', 'time', 'evolutionary psychology', 'war', 'map', 'urban planning', 'innovation', 'United States', 'interview', 'performance art', 'materials', 'code', 'work-life balance', 'biodiversity', 'ecology', 'insects', 'animals', 'primates', 'typography', 'live music', 'singer', 'Brazil', 'animation', 'biomimicry', 'fish', 'oceans', 'intelligence', 'biomechanics', 'online video', 'guitar', 'vocals', 'self', 'china', 'web', 'memory', 'spoken word', 'composing', 'natural disaster', 'energy', 'museums', 'water', 'AI', 'virtual reality', 'women in business', 'Buddhism', 'New York', 'death', 'terrorism', 'Planets', 'adventure', 'space', 'meme', 'Bioethics', 'gaming', 'literature', 'prosthetics', 'books', 'sociology', 'violence', 'human origins', 'humanity', 'paleontology', 'asteroid', 'solar system', 'drones', 'solar energy', 'illness', 'depression', 'mental health', 'suicide', 'law', 'String theory', 'magic', 'compassion', 'empathy', 'writing', 'play', 'South America', 'world cultures', 'infrastructure', 'ancient world', 'bees', 'garden', 'plants', 'toy', 'telescopes', 'hack', 'heart health', 'public health', 'big bang', 'bacteria', 'microbiology', 'news', 'submarine', 'sex', 'society', 'archaeology', 'dinosaurs', 'beauty', 'plastic', 'Vaccines', 'conducting', 'family', 'trees', 'astrobiology', 'extraterrestrial life', 'introvert', 'personality', 'dark matter', 'identity', 'nanoscale', 'geology', 'life', 'morality', 'presentation', 'crime', 'prison', 'democracy', 'smell', 'charter for compassion', 'social media', 'Senses', 'Mars', 'fashion', \"Alzheimer's\", 'curiosity', 'programming', 'chemistry', 'shopping', 'body language', 'virus', 'fear', 'birds', 'wind energy', 'extreme sports', 'prediction', 'productivity', 'mind', 'TED Fellows', 'Natural resources', 'agriculture', 'india', 'neuroscience', 'TEDx', 'money', 'state-building', 'Anthropocene', 'Europe', 'data', 'sight', 'Internet', 'government', 'men', 'advertising', 'sanitation', 'weather', 'big problems', 'rivers', 'Slavery', 'sexual violence', 'trafficking', 'Egypt', 'feminism', 'TEDMED', 'Autism spectrum disorder', 'botany', 'mission blue', 'friendship', 'student', 'HIV', 'oil', 'Surveillance', 'iraq', 'Islam', 'monkeys', 'LGBT', 'Iran', 'Middle East', 'sound', 'PTSD', 'population', 'manufacturing', 'TEDYouth', 'Gender equality', 'bullying', 'trust', 'journalism', 'cyborg', 'Foreign Policy', 'Surgery', 'medical research', 'protests', 'deextinction', 'disability', 'exoskeleton', 'nuclear energy', 'driverless cars', 'crowdsourcing', 'speech', 'failure', 'security', 'pain', 'Blindness', 'Gender spectrum', 'mobility', 'TED en Español', 'public spaces', 'Human body', 'nonviolence', 'pharmaceuticals', 'molecular biology', 'behavioral economics', 'medical imaging', 'physiology', 'pregnancy', 'synthetic biology', 'hearing', 'finance', 'algorithm', 'Guns', 'conservation', 'immigration', 'Criminal Justice', 'TED-Ed', 'privacy', 'microbes', 'machine learning', 'painting', 'meditation', 'mindfulness', 'Syria', 'Transgender', 'Debate', 'farming', 'TED Books', 'television', 'Addiction', 'capitalism', 'refugees', 'resources', 'discovery', 'TEDNYC', 'TED Residency', 'biosphere']\n"
     ]
    }
   ],
   "source": [
    "words = list(model.wv.vocab)\n",
    "print(words)"
   ]
  },
  {
   "cell_type": "markdown",
   "metadata": {
    "collapsed": true
   },
   "source": [
    "print(model['children'])"
   ]
  },
  {
   "cell_type": "markdown",
   "metadata": {
    "collapsed": true
   },
   "source": [
    "model.save('model.bin')"
   ]
  },
  {
   "cell_type": "markdown",
   "metadata": {},
   "source": [
    "model.most_similar('children')"
   ]
  },
  {
   "cell_type": "code",
   "execution_count": 23,
   "metadata": {},
   "outputs": [
    {
     "name": "stderr",
     "output_type": "stream",
     "text": [
      "/Applications/Anaconda/anaconda/lib/python3.6/site-packages/ipykernel_launcher.py:5: DeprecationWarning: Call to deprecated `__getitem__` (Method will be removed in 4.0.0, use self.wv.__getitem__() instead).\n",
      "  \"\"\"\n"
     ]
    },
    {
     "data": {
      "text/plain": [
       "<matplotlib.text.Text at 0x111fd3400>"
      ]
     },
     "execution_count": 23,
     "metadata": {},
     "output_type": "execute_result"
    },
    {
     "data": {
      "image/png": "[encoded data removed]",
      "text/plain": [
       "<matplotlib.figure.Figure at 0x10bfcf710>"
      ]
     },
     "metadata": {},
     "output_type": "display_data"
    }
   ],
   "source": [
    "labels = []\n",
    "tokens = []\n",
    "\n",
    "for word in model.wv.vocab:\n",
    "    tokens.append(model[word])\n",
    "    labels.append(word)\n",
    "\n",
    "tsne_model = TSNE(perplexity=50, n_components=2, init='pca', n_iter=5000, random_state=23,learning_rate=1000)\n",
    "new_values = tsne_model.fit_transform(tokens)\n",
    "\n",
    "kmeans = KMeans(n_clusters=15)\n",
    "kmeans.fit(tokens)\n",
    "clusters = kmeans.predict(tokens)\n",
    "\n",
    "df_tsne = pd.DataFrame(new_values, columns=['1st_Comp', '2nd_Comp'])\n",
    "df_tsne['Cluster'] = clusters\n",
    "\n",
    "sns.lmplot(x='1st_Comp', y='2nd_Comp', data=df_tsne, hue='Cluster', fit_reg=False)\n",
    "plt.title(\"Tag Clusters\")"
   ]
  },
  {
   "cell_type": "code",
   "execution_count": 24,
   "metadata": {
    "collapsed": true
   },
   "outputs": [],
   "source": [
    "convert = {labels[word]: clusters[word] for word in range(len(labels))}"
   ]
  },
  {
   "cell_type": "code",
   "execution_count": 25,
   "metadata": {},
   "outputs": [
    {
     "data": {
      "text/plain": [
       "7"
      ]
     },
     "execution_count": 25,
     "metadata": {},
     "output_type": "execute_result"
    }
   ],
   "source": [
    "convert['God']"
   ]
  },
  {
   "cell_type": "markdown",
   "metadata": {},
   "source": [
    "## Related Talks"
   ]
  },
  {
   "cell_type": "code",
   "execution_count": 26,
   "metadata": {},
   "outputs": [
    {
     "data": {
      "text/plain": [
       "'[{\\'id\\': 865, \\'hero\\': \\'https://pe.tedcdn.com/images/ted/172559_800x600.jpg\\', \\'speaker\\': \\'Ken Robinson\\', \\'title\\': \\'Bring on the learning revolution!\\', \\'duration\\': 1008, \\'slug\\': \\'sir_ken_robinson_bring_on_the_revolution\\', \\'viewed_count\\': 7266103}, {\\'id\\': 1738, \\'hero\\': \\'https://pe.tedcdn.com/images/ted/de98b161ad1434910ff4b56c89de71af04b8b873_1600x1200.jpg\\', \\'speaker\\': \\'Ken Robinson\\', \\'title\\': \"How to escape education\\'s death valley\", \\'duration\\': 1151, \\'slug\\': \\'ken_robinson_how_to_escape_education_s_death_valley\\', \\'viewed_count\\': 6657572}, {\\'id\\': 2276, \\'hero\\': \\'https://pe.tedcdn.com/images/ted/3821f3728e0b755c7b9aea2e69cc093eca41abe1_2880x1620.jpg\\', \\'speaker\\': \\'Linda Cliatt-Wayman\\', \\'title\\': \\'How to fix a broken school? Lead fearlessly, love hard\\', \\'duration\\': 1027, \\'slug\\': \\'linda_cliatt_wayman_how_to_fix_a_broken_school_lead_fearlessly_love_hard\\', \\'viewed_count\\': 1617101}, {\\'id\\': 892, \\'hero\\': \\'https://pe.tedcdn.com/images/ted/e79958940573cc610ccb583619a54866c41ef303_2880x1620.jpg\\', \\'speaker\\': \\'Charles Leadbeater\\', \\'title\\': \\'Education innovation in the slums\\', \\'duration\\': 1138, \\'slug\\': \\'charles_leadbeater_on_education\\', \\'viewed_count\\': 772296}, {\\'id\\': 1232, \\'hero\\': \\'https://pe.tedcdn.com/images/ted/0e3e4e92d5ee8ae0e43962d447d3f790b31099b8_800x600.jpg\\', \\'speaker\\': \\'Geoff Mulgan\\', \\'title\\': \\'A short intro to the Studio School\\', \\'duration\\': 376, \\'slug\\': \\'geoff_mulgan_a_short_intro_to_the_studio_school\\', \\'viewed_count\\': 667971}, {\\'id\\': 2616, \\'hero\\': \\'https://pe.tedcdn.com/images/ted/71cde5a6fa6c717488fb55eff9eef939a9241761_2880x1620.jpg\\', \\'speaker\\': \\'Kandice Sumner\\', \\'title\\': \"How America\\'s public schools keep kids in poverty\", \\'duration\\': 830, \\'slug\\': \\'kandice_sumner_how_america_s_public_schools_keep_kids_in_poverty\\', \\'viewed_count\\': 1181333}]'"
      ]
     },
     "execution_count": 26,
     "metadata": {},
     "output_type": "execute_result"
    }
   ],
   "source": [
    "data['related_talks'][0]"
   ]
  },
  {
   "cell_type": "code",
   "execution_count": 27,
   "metadata": {
    "collapsed": true
   },
   "outputs": [],
   "source": [
    "test = ast.literal_eval(data['related_talks'][0])"
   ]
  },
  {
   "cell_type": "code",
   "execution_count": 28,
   "metadata": {},
   "outputs": [
    {
     "data": {
      "text/plain": [
       "{'duration': 1008,\n",
       " 'hero': 'https://pe.tedcdn.com/images/ted/172559_800x600.jpg',\n",
       " 'id': 865,\n",
       " 'slug': 'sir_ken_robinson_bring_on_the_revolution',\n",
       " 'speaker': 'Ken Robinson',\n",
       " 'title': 'Bring on the learning revolution!',\n",
       " 'viewed_count': 7266103}"
      ]
     },
     "execution_count": 28,
     "metadata": {},
     "output_type": "execute_result"
    }
   ],
   "source": [
    "test[0]"
   ]
  },
  {
   "cell_type": "code",
   "execution_count": 29,
   "metadata": {},
   "outputs": [
    {
     "data": {
      "text/plain": [
       "7266103"
      ]
     },
     "execution_count": 29,
     "metadata": {},
     "output_type": "execute_result"
    }
   ],
   "source": [
    "test[0]['viewed_count']"
   ]
  },
  {
   "cell_type": "code",
   "execution_count": 31,
   "metadata": {
    "collapsed": true
   },
   "outputs": [],
   "source": [
    "data['related_views'] = 0"
   ]
  },
  {
   "cell_type": "code",
   "execution_count": 32,
   "metadata": {},
   "outputs": [],
   "source": [
    "for ii in range(len(data)):\n",
    "    less = ast.literal_eval(data['related_talks'][ii])\n",
    "    related_views = []\n",
    "    for ll in range(len(less)):\n",
    "        related_views.append(less[ll]['viewed_count'])\n",
    "    data['related_views'][ii] = np.mean(related_views)\n",
    "        "
   ]
  },
  {
   "cell_type": "code",
   "execution_count": 33,
   "metadata": {},
   "outputs": [
    {
     "data": {
      "text/html": [
       "<div>\n",
       "<style>\n",
       "    .dataframe thead tr:only-child th {\n",
       "        text-align: right;\n",
       "    }\n",
       "\n",
       "    .dataframe thead th {\n",
       "        text-align: left;\n",
       "    }\n",
       "\n",
       "    .dataframe tbody tr th {\n",
       "        vertical-align: top;\n",
       "    }\n",
       "</style>\n",
       "<table border=\"1\" class=\"dataframe\">\n",
       "  <thead>\n",
       "    <tr style=\"text-align: right;\">\n",
       "      <th></th>\n",
       "      <th>comments</th>\n",
       "      <th>description</th>\n",
       "      <th>duration</th>\n",
       "      <th>event</th>\n",
       "      <th>film_date</th>\n",
       "      <th>languages</th>\n",
       "      <th>main_speaker</th>\n",
       "      <th>name</th>\n",
       "      <th>num_speaker</th>\n",
       "      <th>published_date</th>\n",
       "      <th>...</th>\n",
       "      <th>Informative</th>\n",
       "      <th>Fascinating</th>\n",
       "      <th>Unconvincing</th>\n",
       "      <th>Persuasive</th>\n",
       "      <th>Jaw-dropping</th>\n",
       "      <th>OK</th>\n",
       "      <th>Obnoxious</th>\n",
       "      <th>Inspiring</th>\n",
       "      <th>Tags</th>\n",
       "      <th>related_views</th>\n",
       "    </tr>\n",
       "  </thead>\n",
       "  <tbody>\n",
       "    <tr>\n",
       "      <th>0</th>\n",
       "      <td>4553</td>\n",
       "      <td>Sir Ken Robinson makes an entertaining and pro...</td>\n",
       "      <td>1164</td>\n",
       "      <td>TED2006</td>\n",
       "      <td>1140825600</td>\n",
       "      <td>60</td>\n",
       "      <td>Ken Robinson</td>\n",
       "      <td>Ken Robinson: Do schools kill creativity?</td>\n",
       "      <td>1</td>\n",
       "      <td>1151367060</td>\n",
       "      <td>...</td>\n",
       "      <td>7346</td>\n",
       "      <td>10581</td>\n",
       "      <td>300</td>\n",
       "      <td>10704</td>\n",
       "      <td>4439</td>\n",
       "      <td>1174</td>\n",
       "      <td>209</td>\n",
       "      <td>24924</td>\n",
       "      <td>[children, creativity, culture, dance, educati...</td>\n",
       "      <td>3027062</td>\n",
       "    </tr>\n",
       "    <tr>\n",
       "      <th>1</th>\n",
       "      <td>265</td>\n",
       "      <td>With the same humor and humanity he exuded in ...</td>\n",
       "      <td>977</td>\n",
       "      <td>TED2006</td>\n",
       "      <td>1140825600</td>\n",
       "      <td>43</td>\n",
       "      <td>Al Gore</td>\n",
       "      <td>Al Gore: Averting the climate crisis</td>\n",
       "      <td>1</td>\n",
       "      <td>1151367060</td>\n",
       "      <td>...</td>\n",
       "      <td>443</td>\n",
       "      <td>132</td>\n",
       "      <td>258</td>\n",
       "      <td>268</td>\n",
       "      <td>116</td>\n",
       "      <td>203</td>\n",
       "      <td>131</td>\n",
       "      <td>413</td>\n",
       "      <td>[alternative energy, cars, climate change, cul...</td>\n",
       "      <td>1118767</td>\n",
       "    </tr>\n",
       "    <tr>\n",
       "      <th>2</th>\n",
       "      <td>124</td>\n",
       "      <td>New York Times columnist David Pogue takes aim...</td>\n",
       "      <td>1286</td>\n",
       "      <td>TED2006</td>\n",
       "      <td>1140739200</td>\n",
       "      <td>26</td>\n",
       "      <td>David Pogue</td>\n",
       "      <td>David Pogue: Simplicity sells</td>\n",
       "      <td>1</td>\n",
       "      <td>1151367060</td>\n",
       "      <td>...</td>\n",
       "      <td>395</td>\n",
       "      <td>166</td>\n",
       "      <td>104</td>\n",
       "      <td>230</td>\n",
       "      <td>54</td>\n",
       "      <td>146</td>\n",
       "      <td>142</td>\n",
       "      <td>230</td>\n",
       "      <td>[computers, entertainment, interface design, m...</td>\n",
       "      <td>1846195</td>\n",
       "    </tr>\n",
       "    <tr>\n",
       "      <th>3</th>\n",
       "      <td>200</td>\n",
       "      <td>In an emotionally charged talk, MacArthur-winn...</td>\n",
       "      <td>1116</td>\n",
       "      <td>TED2006</td>\n",
       "      <td>1140912000</td>\n",
       "      <td>35</td>\n",
       "      <td>Majora Carter</td>\n",
       "      <td>Majora Carter: Greening the ghetto</td>\n",
       "      <td>1</td>\n",
       "      <td>1151367060</td>\n",
       "      <td>...</td>\n",
       "      <td>380</td>\n",
       "      <td>132</td>\n",
       "      <td>36</td>\n",
       "      <td>460</td>\n",
       "      <td>230</td>\n",
       "      <td>85</td>\n",
       "      <td>35</td>\n",
       "      <td>1070</td>\n",
       "      <td>[MacArthur grant, activism, business, cities, ...</td>\n",
       "      <td>776189</td>\n",
       "    </tr>\n",
       "    <tr>\n",
       "      <th>4</th>\n",
       "      <td>593</td>\n",
       "      <td>You've never seen data presented like this. Wi...</td>\n",
       "      <td>1190</td>\n",
       "      <td>TED2006</td>\n",
       "      <td>1140566400</td>\n",
       "      <td>48</td>\n",
       "      <td>Hans Rosling</td>\n",
       "      <td>Hans Rosling: The best stats you've ever seen</td>\n",
       "      <td>1</td>\n",
       "      <td>1151440680</td>\n",
       "      <td>...</td>\n",
       "      <td>5433</td>\n",
       "      <td>4606</td>\n",
       "      <td>67</td>\n",
       "      <td>2542</td>\n",
       "      <td>3736</td>\n",
       "      <td>248</td>\n",
       "      <td>61</td>\n",
       "      <td>2893</td>\n",
       "      <td>[Africa, Asia, Google, demo, economics, global...</td>\n",
       "      <td>1907337</td>\n",
       "    </tr>\n",
       "  </tbody>\n",
       "</table>\n",
       "<p>5 rows × 33 columns</p>\n",
       "</div>"
      ],
      "text/plain": [
       "   comments                                        description  duration  \\\n",
       "0      4553  Sir Ken Robinson makes an entertaining and pro...      1164   \n",
       "1       265  With the same humor and humanity he exuded in ...       977   \n",
       "2       124  New York Times columnist David Pogue takes aim...      1286   \n",
       "3       200  In an emotionally charged talk, MacArthur-winn...      1116   \n",
       "4       593  You've never seen data presented like this. Wi...      1190   \n",
       "\n",
       "     event   film_date  languages   main_speaker  \\\n",
       "0  TED2006  1140825600         60   Ken Robinson   \n",
       "1  TED2006  1140825600         43        Al Gore   \n",
       "2  TED2006  1140739200         26    David Pogue   \n",
       "3  TED2006  1140912000         35  Majora Carter   \n",
       "4  TED2006  1140566400         48   Hans Rosling   \n",
       "\n",
       "                                            name  num_speaker  published_date  \\\n",
       "0      Ken Robinson: Do schools kill creativity?            1      1151367060   \n",
       "1           Al Gore: Averting the climate crisis            1      1151367060   \n",
       "2                  David Pogue: Simplicity sells            1      1151367060   \n",
       "3             Majora Carter: Greening the ghetto            1      1151367060   \n",
       "4  Hans Rosling: The best stats you've ever seen            1      1151440680   \n",
       "\n",
       "       ...      Informative Fascinating Unconvincing Persuasive Jaw-dropping  \\\n",
       "0      ...             7346       10581          300      10704         4439   \n",
       "1      ...              443         132          258        268          116   \n",
       "2      ...              395         166          104        230           54   \n",
       "3      ...              380         132           36        460          230   \n",
       "4      ...             5433        4606           67       2542         3736   \n",
       "\n",
       "     OK  Obnoxious Inspiring  \\\n",
       "0  1174        209     24924   \n",
       "1   203        131       413   \n",
       "2   146        142       230   \n",
       "3    85         35      1070   \n",
       "4   248         61      2893   \n",
       "\n",
       "                                                Tags related_views  \n",
       "0  [children, creativity, culture, dance, educati...       3027062  \n",
       "1  [alternative energy, cars, climate change, cul...       1118767  \n",
       "2  [computers, entertainment, interface design, m...       1846195  \n",
       "3  [MacArthur grant, activism, business, cities, ...        776189  \n",
       "4  [Africa, Asia, Google, demo, economics, global...       1907337  \n",
       "\n",
       "[5 rows x 33 columns]"
      ]
     },
     "execution_count": 33,
     "metadata": {},
     "output_type": "execute_result"
    }
   ],
   "source": [
    "data.head()"
   ]
  },
  {
   "cell_type": "markdown",
   "metadata": {},
   "source": [
    "## Events"
   ]
  },
  {
   "cell_type": "code",
   "execution_count": 34,
   "metadata": {},
   "outputs": [
    {
     "data": {
      "text/plain": [
       "array(['TED2006', 'TED2004', 'TED2005', 'TEDGlobal 2005', 'TEDSalon 2006',\n",
       "       'TED2003', 'TED2007', 'TED2002', 'TEDGlobal 2007',\n",
       "       'TEDSalon 2007 Hot Science', 'Skoll World Forum 2007', 'TED2008',\n",
       "       'TED1984', 'TED1990', 'DLD 2007', 'EG 2007', 'TED1998',\n",
       "       'LIFT 2007', 'TED Prize Wish', 'TEDSalon 2009 Compassion',\n",
       "       'Chautauqua Institution', 'Serious Play 2008', 'Taste3 2008',\n",
       "       'TED2001', 'TED in the Field', 'TED2009', 'EG 2008',\n",
       "       'Elizabeth G. Anderson School', 'TEDxUSC', 'TED@State',\n",
       "       'TEDGlobal 2009', 'TEDxKC', 'TEDIndia 2009',\n",
       "       'TEDSalon London 2009', 'Justice with Michael Sandel',\n",
       "       'Business Innovation Factory', 'TEDxTC',\n",
       "       'Carnegie Mellon University', 'Stanford University',\n",
       "       'AORN Congress', 'University of California', 'TEDMED 2009',\n",
       "       'Royal Institution', 'Bowery Poetry Club', 'TEDxSMU',\n",
       "       'Harvard University', 'TEDxBoston 2009', 'TEDxBerlin', 'TED2010',\n",
       "       'TEDxAmsterdam', 'World Science Festival', 'BBC TV',\n",
       "       'Arbejdsglaede Live', 'Web 2.0 Expo 2008', 'TEDxNASA',\n",
       "       'Michael Howard Studios', 'DICE Summit 2010',\n",
       "       \"Eric Whitacre's Virtual Choir\", 'Mission Blue Voyage',\n",
       "       'TEDxPuget Sound ', 'TEDxNYED', 'Toronto Youth Corps',\n",
       "       'TEDSalon London 2010', 'TEDxEdmonton', 'TED@Cannes',\n",
       "       'TEDxAtlanta', 'TEDxEast', 'TEDxOilSpill', 'TEDGlobal 2010',\n",
       "       'Princeton University', 'New York State Senate', 'TEDxBoston 2010',\n",
       "       'RSA Animate', 'TEDxYYC', 'Gel Conference', 'The Do Lectures',\n",
       "       'TEDxChange', 'TED Senior Fellows at TEDGlobal 2010',\n",
       "       'Fort Worth City Council', 'TEDxTelAviv 2010', 'TEDxDU 2010',\n",
       "       'TEDxMidwest', 'TEDxHouston', 'TEDxNextGenerationAsheville',\n",
       "       'TEDxRotterdam 2010', 'TEDWomen 2010', 'TEDxMidAtlantic',\n",
       "       'TEDxSydney', 'TEDSalon NY2011', 'TEDxRainier', 'TEDxToronto 2010',\n",
       "       'TEDxPSU', 'TEDMED 2010', 'TEDxGreatPacificGarbagePatch',\n",
       "       'TEDxGöteborg 2010', 'TEDxToronto 2011', 'TED@MotorCity',\n",
       "       'TEDxPennQuarter', 'TEDPrize@UN', 'TED2011', 'TEDxPeachtree',\n",
       "       'TEDxDubai', 'TEDActive 2011', 'INK Conference', 'TEDxCaltech',\n",
       "       'TEDxWarwick', 'Handheld Learning', 'TEDxSiliconValley',\n",
       "       'TEDxNorthwesternU', 'TEDxMaastricht', 'TEDxBG',\n",
       "       'Full Spectrum Auditions', 'TEDSalon London Spring 2011',\n",
       "       'TEDxSanMigueldeAllende', 'TEDGlobal 2011', 'TEDxBoston 2011',\n",
       "       'TEDxParis 2010', 'NextGen:Charity', 'TEDxUIUC',\n",
       "       'TEDxThessaloniki', \"TEDxO'Porto\", 'TEDxBloomington',\n",
       "       'TEDxSantaCruz', 'TEDxWaterloo', 'TEDxManhattanBeach',\n",
       "       'TEDxKids@Brussels', 'TEDxTeen', 'TEDxBoulder 2011',\n",
       "       'TEDxManhattan', 'TEDxOrangeCoast', 'TEDxBrussels', 'TEDMED 2011',\n",
       "       'TEDxKrakow', 'TEDxCMU', 'TEDxVienna', 'TEDxDU 2011', 'TEDxDirigo',\n",
       "       'TEDxCanberra', 'TEDxRC2', 'TEDxWomen 2011', 'TEDxZurich 2011',\n",
       "       'TEDSalon NY2012', 'TEDxMIA', 'TEDxNASA@SiliconValley',\n",
       "       'TEDxYouth@Manchester', 'TED1994', 'TEDxVancouver',\n",
       "       'TEDSalon London Fall 2011', 'TEDxIslay', 'TEDxAmericanRiviera',\n",
       "       'TEDxDublin', 'TEDxVictoria', 'TEDxPhoenix', 'TEDxAsheville',\n",
       "       'TEDYouth 2011', 'TED2012', 'TEDxUW', 'TED-Ed', 'TEDxCambridge',\n",
       "       'TEDxPortofSpain', 'TEDxNewy', 'TEDxPittsburgh', 'TEDxObserver',\n",
       "       'TEDxConcordiaUPortland', 'TEDxAthens', 'TED@SXSWi', 'TEDxAustin',\n",
       "       'TEDxMonterey', 'TEDxSummit', 'TEDxBerkeley',\n",
       "       'TEDxHogeschoolUtrecht', 'TEDxSanJoseCA', 'TEDxSussexUniversity',\n",
       "       'TEDMED 2012', 'TEDSalon London Spring 2012', 'TEDxGrandRapids',\n",
       "       'TEDxABQ', 'TEDxSanDiego', 'TEDxLondonBusinessSchool',\n",
       "       'TEDGlobal 2012', 'TEDxStanford', 'TEDxImperialCollege',\n",
       "       'TEDxBoston 2012', 'TEDxUCL', 'TEDxExeter', 'TEDxMaui',\n",
       "       'TEDxHousesOfParliament', 'TED@London', 'TEDxWinnipeg',\n",
       "       'TED@Bangalore', 'TED@New York', 'TEDxCHUV', 'TEDxSF',\n",
       "       'TEDxEQChCh', 'TEDxHelvetia', 'TED@Nairobi', 'TEDxGeorgetown',\n",
       "       'TED@Johannesburg', 'TEDxZurich 2012', 'TEDSalon London Fall 2012',\n",
       "       'TEDxWitsUniversity', 'TEDxJaffa 2012', 'TEDxWomen 2012',\n",
       "       'TEDxHampshireCollege', 'TEDxGoodenoughCollege', 'TEDxGlasgow',\n",
       "       'TEDxBeaconStreet', 'SoulPancake', 'TEDxDelft', 'TEDSalon NY2013',\n",
       "       'TEDxSeoul', 'TEDxConcorde', 'TED2013', 'TEDYouth 2012',\n",
       "       'TEDxSeattleU', 'TEDxRiodelaPlata', 'TED@Intel',\n",
       "       'TED Talks Education', 'TEDxMiamiUniversity', 'TEDxFiDiWomen',\n",
       "       'TEDxDeExtinction', 'TEDMED 2013', 'TEDGlobal 2013', 'TEDxCERN',\n",
       "       'TEDxNijmegen', 'TEDxColbyCollege', 'TEDxDanubia', 'TEDxTokyo',\n",
       "       'TEDxBoston', 'TEDxKids@Ambleside', 'TEDCity2.0', 'TEDxUdeM',\n",
       "       'TED@BCG Singapore', 'TED@NYC', 'TEDWomen 2013', 'TEDYouth 2013',\n",
       "       'TEDxBratislava', 'TED@BCG San Francisco', 'TEDxMet', 'TEDxMarin',\n",
       "       'TEDxBeirut', 'TED@State Street Boston', 'TEDxCaFoscariU',\n",
       "       'TEDxJaffa 2013', 'TEDxZurich 2013', 'TED Fellows Retreat 2013',\n",
       "       'TEDxParis 2012', 'TEDxBoulder', 'TED2014', 'TEDxMidAtlantic 2013',\n",
       "       'TEDxPerth', 'TEDxUMKC', 'TEDxLeuvenSalon', 'TEDActive 2014',\n",
       "       'TEDSalon NY2014', 'TEDxUofM', 'TEDxColumbus',\n",
       "       'TEDSalon Berlin 2014', 'TEDxKyoto', 'TEDxClaremontColleges',\n",
       "       'TEDxMonroeCorrectionalComplex', 'TEDxBrighton',\n",
       "       'TEDxSonomaCounty', 'TEDxAmazonia', 'TED@Unilever', 'TEDMED 2014',\n",
       "       'TEDGlobal 2014', 'TED@IBM', 'TEDxNewYork', 'TED@BCG Berlin',\n",
       "       'TEDxArendal', 'TEDxNorrkoping', 'TEDYouth 2014',\n",
       "       'TED@State Street London', 'TEDxPlaceDesNations',\n",
       "       'TEDxBinghamtonUniversity', 'TEDxLinnaeusUniversity', 'TEDxSBU',\n",
       "       'TED2015', 'TEDxMuncyStatePrison', 'TEDxSouthBank',\n",
       "       'TEDWomen 2015', 'TEDSalon NY2015', 'TEDGlobalLondon',\n",
       "       'TEDxIndianapolis', 'TED@BCG London', 'TEDxChapmanU',\n",
       "       'TEDxGoldenGatePark 2012', 'TEDxUF', 'TEDxBend',\n",
       "       'TEDGlobal>London', 'TEDxPenn', 'TEDxProvidence',\n",
       "       'TED Fellows Retreat 2015', 'TED Fellows 2015', 'TEDxOslo',\n",
       "       'TEDxCannes', 'Mission Blue II', 'TED@UPS', 'TEDxToulouse',\n",
       "       'TEDYouth 2015', 'TEDxGroningen', 'TEDGlobal>Geneva',\n",
       "       'TEDxYouth@Sydney', 'TEDxAmoskeagMillyard', 'TEDMED 2015',\n",
       "       'TEDxUM', 'TEDxCreativeCoast', 'TED2016', 'TED@StateStreet Boston',\n",
       "       'TED Talks Live', 'Global Witness HQ', 'TED Studio',\n",
       "       'TEDActive 2015', 'TEDxGatewayWomen', 'TEDxEastEnd',\n",
       "       'TED@BCG Paris', 'TEDSummit', 'TEDxDesMoines',\n",
       "       'TEDxColoradoSprings', 'TEDNYC', 'TEDxUniversityofNevada',\n",
       "       'TEDxMontreal', 'TEDxIndianaUniversity', 'TEDWomen 2016',\n",
       "       'TED Residency', 'TEDxToronto', 'TEDxMtHood', 'TEDxGhent',\n",
       "       'TEDxSaltLakeCity', 'TEDxOmaha', 'TEDxSFU', 'TEDMED 2016',\n",
       "       'TEDxPortland', 'TEDxManchester', 'TEDxMileHigh', 'TED Dialogues',\n",
       "       'TEDxNatick', 'TEDxFrankfurt', 'TED-Ed Weekend',\n",
       "       'TEDxColumbusWomen', 'TEDxEuston', 'TEDxSanQuentin',\n",
       "       'TEDLagos Ideas Search', 'TEDxVirginiaTech', 'TED2017',\n",
       "       'TEDxSkoll', 'TEDNairobi Ideas Search', 'TEDxFulbrightDublin',\n",
       "       'TEDxOrcasIsland', 'TEDxPennsylvaniaAvenue', 'TEDxCrenshaw',\n",
       "       'TEDxHamburg', 'TEDGlobal 2017', 'TEDxZurich'], dtype=object)"
      ]
     },
     "execution_count": 34,
     "metadata": {},
     "output_type": "execute_result"
    }
   ],
   "source": [
    "data['event'].unique()"
   ]
  },
  {
   "cell_type": "code",
   "execution_count": 61,
   "metadata": {
    "collapsed": true
   },
   "outputs": [],
   "source": [
    "data['event_class'] = 'Other'"
   ]
  },
  {
   "cell_type": "code",
   "execution_count": 62,
   "metadata": {
    "collapsed": true
   },
   "outputs": [],
   "source": [
    "for ii in range(len(data)):\n",
    "    if data['event'][ii].count('TED20') >0:\n",
    "        data['event_class'][ii] = 'Yearly TED Conference'\n",
    "    elif data['event'][ii].count('TED19') >0:\n",
    "        data['event_class'][ii] = 'Yearly TED Conference'\n",
    "    elif data['event'][ii].count('TEDx') >0:\n",
    "        data['event_class'][ii] = 'TEDx'\n",
    "    elif data['event'][ii].count('TEDGlobal') >0:\n",
    "        data['event_class'][ii] = 'TEDGlobal'\n",
    "    elif data['event'][ii].count('TEDWomen') >0:\n",
    "        data['event_class'][ii] = 'TEDWomen'\n",
    "    if data['event'][ii].count('TEDSalon') >0:\n",
    "        data['event_class'][ii] = 'TEDSalon'\n",
    "    if data['event'][ii].count('TEDNYC') >0:\n",
    "        data['event_class'][ii] = 'TEDNYC'\n",
    "    else:\n",
    "        pass"
   ]
  },
  {
   "cell_type": "code",
   "execution_count": 65,
   "metadata": {},
   "outputs": [
    {
     "data": {
      "text/html": [
       "<div>\n",
       "<style>\n",
       "    .dataframe thead tr:only-child th {\n",
       "        text-align: right;\n",
       "    }\n",
       "\n",
       "    .dataframe thead th {\n",
       "        text-align: left;\n",
       "    }\n",
       "\n",
       "    .dataframe tbody tr th {\n",
       "        vertical-align: top;\n",
       "    }\n",
       "</style>\n",
       "<table border=\"1\" class=\"dataframe\">\n",
       "  <thead>\n",
       "    <tr style=\"text-align: right;\">\n",
       "      <th></th>\n",
       "      <th>comments</th>\n",
       "      <th>description</th>\n",
       "      <th>duration</th>\n",
       "      <th>event</th>\n",
       "      <th>film_date</th>\n",
       "      <th>languages</th>\n",
       "      <th>main_speaker</th>\n",
       "      <th>name</th>\n",
       "      <th>num_speaker</th>\n",
       "      <th>published_date</th>\n",
       "      <th>...</th>\n",
       "      <th>Fascinating</th>\n",
       "      <th>Unconvincing</th>\n",
       "      <th>Persuasive</th>\n",
       "      <th>Jaw-dropping</th>\n",
       "      <th>OK</th>\n",
       "      <th>Obnoxious</th>\n",
       "      <th>Inspiring</th>\n",
       "      <th>Tags</th>\n",
       "      <th>related_views</th>\n",
       "      <th>event_class</th>\n",
       "    </tr>\n",
       "  </thead>\n",
       "  <tbody>\n",
       "    <tr>\n",
       "      <th>0</th>\n",
       "      <td>4553</td>\n",
       "      <td>Sir Ken Robinson makes an entertaining and pro...</td>\n",
       "      <td>1164</td>\n",
       "      <td>TED2006</td>\n",
       "      <td>1140825600</td>\n",
       "      <td>60</td>\n",
       "      <td>Ken Robinson</td>\n",
       "      <td>Ken Robinson: Do schools kill creativity?</td>\n",
       "      <td>1</td>\n",
       "      <td>1151367060</td>\n",
       "      <td>...</td>\n",
       "      <td>10581</td>\n",
       "      <td>300</td>\n",
       "      <td>10704</td>\n",
       "      <td>4439</td>\n",
       "      <td>1174</td>\n",
       "      <td>209</td>\n",
       "      <td>24924</td>\n",
       "      <td>[children, creativity, culture, dance, educati...</td>\n",
       "      <td>3027062</td>\n",
       "      <td>Yearly TED Conference</td>\n",
       "    </tr>\n",
       "    <tr>\n",
       "      <th>1</th>\n",
       "      <td>265</td>\n",
       "      <td>With the same humor and humanity he exuded in ...</td>\n",
       "      <td>977</td>\n",
       "      <td>TED2006</td>\n",
       "      <td>1140825600</td>\n",
       "      <td>43</td>\n",
       "      <td>Al Gore</td>\n",
       "      <td>Al Gore: Averting the climate crisis</td>\n",
       "      <td>1</td>\n",
       "      <td>1151367060</td>\n",
       "      <td>...</td>\n",
       "      <td>132</td>\n",
       "      <td>258</td>\n",
       "      <td>268</td>\n",
       "      <td>116</td>\n",
       "      <td>203</td>\n",
       "      <td>131</td>\n",
       "      <td>413</td>\n",
       "      <td>[alternative energy, cars, climate change, cul...</td>\n",
       "      <td>1118767</td>\n",
       "      <td>Yearly TED Conference</td>\n",
       "    </tr>\n",
       "    <tr>\n",
       "      <th>2</th>\n",
       "      <td>124</td>\n",
       "      <td>New York Times columnist David Pogue takes aim...</td>\n",
       "      <td>1286</td>\n",
       "      <td>TED2006</td>\n",
       "      <td>1140739200</td>\n",
       "      <td>26</td>\n",
       "      <td>David Pogue</td>\n",
       "      <td>David Pogue: Simplicity sells</td>\n",
       "      <td>1</td>\n",
       "      <td>1151367060</td>\n",
       "      <td>...</td>\n",
       "      <td>166</td>\n",
       "      <td>104</td>\n",
       "      <td>230</td>\n",
       "      <td>54</td>\n",
       "      <td>146</td>\n",
       "      <td>142</td>\n",
       "      <td>230</td>\n",
       "      <td>[computers, entertainment, interface design, m...</td>\n",
       "      <td>1846195</td>\n",
       "      <td>Yearly TED Conference</td>\n",
       "    </tr>\n",
       "    <tr>\n",
       "      <th>3</th>\n",
       "      <td>200</td>\n",
       "      <td>In an emotionally charged talk, MacArthur-winn...</td>\n",
       "      <td>1116</td>\n",
       "      <td>TED2006</td>\n",
       "      <td>1140912000</td>\n",
       "      <td>35</td>\n",
       "      <td>Majora Carter</td>\n",
       "      <td>Majora Carter: Greening the ghetto</td>\n",
       "      <td>1</td>\n",
       "      <td>1151367060</td>\n",
       "      <td>...</td>\n",
       "      <td>132</td>\n",
       "      <td>36</td>\n",
       "      <td>460</td>\n",
       "      <td>230</td>\n",
       "      <td>85</td>\n",
       "      <td>35</td>\n",
       "      <td>1070</td>\n",
       "      <td>[MacArthur grant, activism, business, cities, ...</td>\n",
       "      <td>776189</td>\n",
       "      <td>Yearly TED Conference</td>\n",
       "    </tr>\n",
       "    <tr>\n",
       "      <th>4</th>\n",
       "      <td>593</td>\n",
       "      <td>You've never seen data presented like this. Wi...</td>\n",
       "      <td>1190</td>\n",
       "      <td>TED2006</td>\n",
       "      <td>1140566400</td>\n",
       "      <td>48</td>\n",
       "      <td>Hans Rosling</td>\n",
       "      <td>Hans Rosling: The best stats you've ever seen</td>\n",
       "      <td>1</td>\n",
       "      <td>1151440680</td>\n",
       "      <td>...</td>\n",
       "      <td>4606</td>\n",
       "      <td>67</td>\n",
       "      <td>2542</td>\n",
       "      <td>3736</td>\n",
       "      <td>248</td>\n",
       "      <td>61</td>\n",
       "      <td>2893</td>\n",
       "      <td>[Africa, Asia, Google, demo, economics, global...</td>\n",
       "      <td>1907337</td>\n",
       "      <td>Yearly TED Conference</td>\n",
       "    </tr>\n",
       "  </tbody>\n",
       "</table>\n",
       "<p>5 rows × 34 columns</p>\n",
       "</div>"
      ],
      "text/plain": [
       "   comments                                        description  duration  \\\n",
       "0      4553  Sir Ken Robinson makes an entertaining and pro...      1164   \n",
       "1       265  With the same humor and humanity he exuded in ...       977   \n",
       "2       124  New York Times columnist David Pogue takes aim...      1286   \n",
       "3       200  In an emotionally charged talk, MacArthur-winn...      1116   \n",
       "4       593  You've never seen data presented like this. Wi...      1190   \n",
       "\n",
       "     event   film_date  languages   main_speaker  \\\n",
       "0  TED2006  1140825600         60   Ken Robinson   \n",
       "1  TED2006  1140825600         43        Al Gore   \n",
       "2  TED2006  1140739200         26    David Pogue   \n",
       "3  TED2006  1140912000         35  Majora Carter   \n",
       "4  TED2006  1140566400         48   Hans Rosling   \n",
       "\n",
       "                                            name  num_speaker  published_date  \\\n",
       "0      Ken Robinson: Do schools kill creativity?            1      1151367060   \n",
       "1           Al Gore: Averting the climate crisis            1      1151367060   \n",
       "2                  David Pogue: Simplicity sells            1      1151367060   \n",
       "3             Majora Carter: Greening the ghetto            1      1151367060   \n",
       "4  Hans Rosling: The best stats you've ever seen            1      1151440680   \n",
       "\n",
       "           ...           Fascinating Unconvincing Persuasive Jaw-dropping  \\\n",
       "0          ...                 10581          300      10704         4439   \n",
       "1          ...                   132          258        268          116   \n",
       "2          ...                   166          104        230           54   \n",
       "3          ...                   132           36        460          230   \n",
       "4          ...                  4606           67       2542         3736   \n",
       "\n",
       "     OK Obnoxious  Inspiring  \\\n",
       "0  1174       209      24924   \n",
       "1   203       131        413   \n",
       "2   146       142        230   \n",
       "3    85        35       1070   \n",
       "4   248        61       2893   \n",
       "\n",
       "                                                Tags related_views  \\\n",
       "0  [children, creativity, culture, dance, educati...       3027062   \n",
       "1  [alternative energy, cars, climate change, cul...       1118767   \n",
       "2  [computers, entertainment, interface design, m...       1846195   \n",
       "3  [MacArthur grant, activism, business, cities, ...        776189   \n",
       "4  [Africa, Asia, Google, demo, economics, global...       1907337   \n",
       "\n",
       "             event_class  \n",
       "0  Yearly TED Conference  \n",
       "1  Yearly TED Conference  \n",
       "2  Yearly TED Conference  \n",
       "3  Yearly TED Conference  \n",
       "4  Yearly TED Conference  \n",
       "\n",
       "[5 rows x 34 columns]"
      ]
     },
     "execution_count": 65,
     "metadata": {},
     "output_type": "execute_result"
    }
   ],
   "source": [
    "data.head()"
   ]
  },
  {
   "cell_type": "markdown",
   "metadata": {},
   "source": [
    "## Current Columns of interest:   \n",
    " - Comments\n",
    " - Duration\n",
    " - Film Date / Publish Date\n",
    " - Languages\n",
    " - Ratings (We may want to combine certain ones to bigger categories)\n",
    " - Tags? More work has to be done to consolidate unless we want 400 dummy variables. May not be too bad.\n",
    " - Mean # of Related video views\n",
    " - Event Class\n",
    " - Speaker Occupation? Worth it?\n"
   ]
  },
  {
   "cell_type": "code",
   "execution_count": null,
   "metadata": {
    "collapsed": true
   },
   "outputs": [],
   "source": []
  }
 ],
 "metadata": {
  "kernelspec": {
   "display_name": "Python 3",
   "language": "python",
   "name": "python3"
  },
  "language_info": {
   "codemirror_mode": {
    "name": "ipython",
    "version": 3
   },
   "file_extension": ".py",
   "mimetype": "text/x-python",
   "name": "python",
   "nbconvert_exporter": "python",
   "pygments_lexer": "ipython3",
   "version": "3.6.1"
  }
 },
 "nbformat": 4,
 "nbformat_minor": 2
}
