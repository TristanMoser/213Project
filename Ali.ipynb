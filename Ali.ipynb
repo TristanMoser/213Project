{
 "cells": [
  {
   "cell_type": "code",
   "execution_count": 1,
   "metadata": {
    "collapsed": true
   },
   "outputs": [],
   "source": [
    "import pandas as pd\n",
    "import numpy as np\n",
    "import seaborn as sns\n",
    "from sklearn.cluster import KMeans\n",
    "import ast\n",
    "pd.options.mode.chained_assignment = None\n",
    "\n",
    "from sklearn.manifold import TSNE\n",
    "import matplotlib.pyplot as plt\n",
    "%matplotlib inline"
   ]
  },
  {
   "cell_type": "markdown",
   "metadata": {},
   "source": [
    "## Preparing cleaned_data.csv for modeling"
   ]
  },
  {
   "cell_type": "code",
   "execution_count": 2,
   "metadata": {
    "collapsed": true
   },
   "outputs": [],
   "source": [
    "data = pd.read_csv(\"/Users/alidoxey/Downloads/213Project-master 4/cleaned_data.csv\")"
   ]
  },
  {
   "cell_type": "code",
   "execution_count": 3,
   "metadata": {
    "scrolled": true
   },
   "outputs": [
    {
     "data": {
      "text/html": [
       "<div>\n",
       "<style>\n",
       "    .dataframe thead tr:only-child th {\n",
       "        text-align: right;\n",
       "    }\n",
       "\n",
       "    .dataframe thead th {\n",
       "        text-align: left;\n",
       "    }\n",
       "\n",
       "    .dataframe tbody tr th {\n",
       "        vertical-align: top;\n",
       "    }\n",
       "</style>\n",
       "<table border=\"1\" class=\"dataframe\">\n",
       "  <thead>\n",
       "    <tr style=\"text-align: right;\">\n",
       "      <th></th>\n",
       "      <th>Unnamed: 0</th>\n",
       "      <th>comments</th>\n",
       "      <th>duration</th>\n",
       "      <th>languages</th>\n",
       "      <th>published_date</th>\n",
       "      <th>speaker_occupation</th>\n",
       "      <th>title</th>\n",
       "      <th>views</th>\n",
       "      <th>Positive</th>\n",
       "      <th>Negative</th>\n",
       "      <th>...</th>\n",
       "      <th>Scientific Fields_tag</th>\n",
       "      <th>media/entertainment_tag</th>\n",
       "      <th>Organizing/Perceiving Information_tag</th>\n",
       "      <th>Middle East_tag</th>\n",
       "      <th>Epidemics_tag</th>\n",
       "      <th>Outer-Space_tag</th>\n",
       "      <th>Vices/Prejudices_tag</th>\n",
       "      <th>exploration_tag</th>\n",
       "      <th>robots/prosthetics_tag</th>\n",
       "      <th>animals/organisms_tag</th>\n",
       "    </tr>\n",
       "  </thead>\n",
       "  <tbody>\n",
       "    <tr>\n",
       "      <th>0</th>\n",
       "      <td>0</td>\n",
       "      <td>4553</td>\n",
       "      <td>1164</td>\n",
       "      <td>60</td>\n",
       "      <td>1151367060</td>\n",
       "      <td>Author/educator</td>\n",
       "      <td>Do schools kill creativity?</td>\n",
       "      <td>47227110</td>\n",
       "      <td>91538</td>\n",
       "      <td>1138</td>\n",
       "      <td>...</td>\n",
       "      <td>0</td>\n",
       "      <td>0</td>\n",
       "      <td>0</td>\n",
       "      <td>0</td>\n",
       "      <td>0</td>\n",
       "      <td>0</td>\n",
       "      <td>0</td>\n",
       "      <td>0</td>\n",
       "      <td>0</td>\n",
       "      <td>0</td>\n",
       "    </tr>\n",
       "    <tr>\n",
       "      <th>1</th>\n",
       "      <td>1</td>\n",
       "      <td>265</td>\n",
       "      <td>977</td>\n",
       "      <td>43</td>\n",
       "      <td>1151367060</td>\n",
       "      <td>Climate advocate</td>\n",
       "      <td>Averting the climate crisis</td>\n",
       "      <td>3200520</td>\n",
       "      <td>2169</td>\n",
       "      <td>564</td>\n",
       "      <td>...</td>\n",
       "      <td>1</td>\n",
       "      <td>0</td>\n",
       "      <td>0</td>\n",
       "      <td>0</td>\n",
       "      <td>0</td>\n",
       "      <td>0</td>\n",
       "      <td>0</td>\n",
       "      <td>0</td>\n",
       "      <td>0</td>\n",
       "      <td>0</td>\n",
       "    </tr>\n",
       "    <tr>\n",
       "      <th>2</th>\n",
       "      <td>2</td>\n",
       "      <td>124</td>\n",
       "      <td>1286</td>\n",
       "      <td>26</td>\n",
       "      <td>1151367060</td>\n",
       "      <td>Technology columnist</td>\n",
       "      <td>Simplicity sells</td>\n",
       "      <td>1636292</td>\n",
       "      <td>2327</td>\n",
       "      <td>351</td>\n",
       "      <td>...</td>\n",
       "      <td>0</td>\n",
       "      <td>1</td>\n",
       "      <td>1</td>\n",
       "      <td>0</td>\n",
       "      <td>0</td>\n",
       "      <td>0</td>\n",
       "      <td>0</td>\n",
       "      <td>0</td>\n",
       "      <td>0</td>\n",
       "      <td>0</td>\n",
       "    </tr>\n",
       "    <tr>\n",
       "      <th>3</th>\n",
       "      <td>3</td>\n",
       "      <td>200</td>\n",
       "      <td>1116</td>\n",
       "      <td>35</td>\n",
       "      <td>1151367060</td>\n",
       "      <td>Activist for environmental justice</td>\n",
       "      <td>Greening the ghetto</td>\n",
       "      <td>1697550</td>\n",
       "      <td>3487</td>\n",
       "      <td>156</td>\n",
       "      <td>...</td>\n",
       "      <td>0</td>\n",
       "      <td>0</td>\n",
       "      <td>0</td>\n",
       "      <td>0</td>\n",
       "      <td>0</td>\n",
       "      <td>0</td>\n",
       "      <td>0</td>\n",
       "      <td>0</td>\n",
       "      <td>0</td>\n",
       "      <td>0</td>\n",
       "    </tr>\n",
       "    <tr>\n",
       "      <th>4</th>\n",
       "      <td>4</td>\n",
       "      <td>593</td>\n",
       "      <td>1190</td>\n",
       "      <td>48</td>\n",
       "      <td>1151440680</td>\n",
       "      <td>Global health expert; data visionary</td>\n",
       "      <td>The best stats you've ever seen</td>\n",
       "      <td>12005869</td>\n",
       "      <td>25062</td>\n",
       "      <td>310</td>\n",
       "      <td>...</td>\n",
       "      <td>1</td>\n",
       "      <td>1</td>\n",
       "      <td>1</td>\n",
       "      <td>1</td>\n",
       "      <td>0</td>\n",
       "      <td>0</td>\n",
       "      <td>0</td>\n",
       "      <td>0</td>\n",
       "      <td>0</td>\n",
       "      <td>0</td>\n",
       "    </tr>\n",
       "  </tbody>\n",
       "</table>\n",
       "<p>5 rows × 28 columns</p>\n",
       "</div>"
      ],
      "text/plain": [
       "   Unnamed: 0  comments  duration  languages  published_date  \\\n",
       "0           0      4553      1164         60      1151367060   \n",
       "1           1       265       977         43      1151367060   \n",
       "2           2       124      1286         26      1151367060   \n",
       "3           3       200      1116         35      1151367060   \n",
       "4           4       593      1190         48      1151440680   \n",
       "\n",
       "                     speaker_occupation                            title  \\\n",
       "0                       Author/educator      Do schools kill creativity?   \n",
       "1                      Climate advocate      Averting the climate crisis   \n",
       "2                  Technology columnist                 Simplicity sells   \n",
       "3    Activist for environmental justice              Greening the ghetto   \n",
       "4  Global health expert; data visionary  The best stats you've ever seen   \n",
       "\n",
       "      views  Positive  Negative          ...            Scientific Fields_tag  \\\n",
       "0  47227110     91538      1138          ...                                0   \n",
       "1   3200520      2169       564          ...                                1   \n",
       "2   1636292      2327       351          ...                                0   \n",
       "3   1697550      3487       156          ...                                0   \n",
       "4  12005869     25062       310          ...                                1   \n",
       "\n",
       "   media/entertainment_tag Organizing/Perceiving Information_tag  \\\n",
       "0                        0                                     0   \n",
       "1                        0                                     0   \n",
       "2                        1                                     1   \n",
       "3                        0                                     0   \n",
       "4                        1                                     1   \n",
       "\n",
       "   Middle East_tag  Epidemics_tag  Outer-Space_tag  Vices/Prejudices_tag  \\\n",
       "0                0              0                0                     0   \n",
       "1                0              0                0                     0   \n",
       "2                0              0                0                     0   \n",
       "3                0              0                0                     0   \n",
       "4                1              0                0                     0   \n",
       "\n",
       "   exploration_tag  robots/prosthetics_tag  animals/organisms_tag  \n",
       "0                0                       0                      0  \n",
       "1                0                       0                      0  \n",
       "2                0                       0                      0  \n",
       "3                0                       0                      0  \n",
       "4                0                       0                      0  \n",
       "\n",
       "[5 rows x 28 columns]"
      ]
     },
     "execution_count": 3,
     "metadata": {},
     "output_type": "execute_result"
    }
   ],
   "source": [
    "data.head()"
   ]
  },
  {
   "cell_type": "code",
   "execution_count": 4,
   "metadata": {},
   "outputs": [
    {
     "name": "stdout",
     "output_type": "stream",
     "text": [
      "<class 'pandas.core.frame.DataFrame'>\n",
      "RangeIndex: 2550 entries, 0 to 2549\n",
      "Data columns (total 28 columns):\n",
      "Unnamed: 0                               2550 non-null int64\n",
      "comments                                 2550 non-null int64\n",
      "duration                                 2550 non-null int64\n",
      "languages                                2550 non-null int64\n",
      "published_date                           2550 non-null int64\n",
      "speaker_occupation                       2544 non-null object\n",
      "title                                    2550 non-null object\n",
      "views                                    2550 non-null int64\n",
      "Positive                                 2550 non-null int64\n",
      "Negative                                 2550 non-null int64\n",
      "Moderate                                 2550 non-null int64\n",
      "related_views                            2550 non-null int64\n",
      "event_class                              2550 non-null object\n",
      "Humanity/Progress_tag                    2550 non-null int64\n",
      "arts/creativity_tag                      2550 non-null int64\n",
      "philanthropy/religion_tag                2550 non-null int64\n",
      "music_tag                                2550 non-null int64\n",
      "Global issues_tag                        2550 non-null int64\n",
      "Scientific Fields_tag                    2550 non-null int64\n",
      "media/entertainment_tag                  2550 non-null int64\n",
      "Organizing/Perceiving Information_tag    2550 non-null int64\n",
      "Middle East_tag                          2550 non-null int64\n",
      "Epidemics_tag                            2550 non-null int64\n",
      "Outer-Space_tag                          2550 non-null int64\n",
      "Vices/Prejudices_tag                     2550 non-null int64\n",
      "exploration_tag                          2550 non-null int64\n",
      "robots/prosthetics_tag                   2550 non-null int64\n",
      "animals/organisms_tag                    2550 non-null int64\n",
      "dtypes: int64(25), object(3)\n",
      "memory usage: 557.9+ KB\n"
     ]
    }
   ],
   "source": [
    "data.info()"
   ]
  },
  {
   "cell_type": "code",
   "execution_count": 5,
   "metadata": {
    "collapsed": true
   },
   "outputs": [],
   "source": [
    "target = data.views"
   ]
  },
  {
   "cell_type": "code",
   "execution_count": 15,
   "metadata": {},
   "outputs": [
    {
     "data": {
      "text/plain": [
       "'\\nmean = np.mean(data, axis=0)\\nsd = np.std(data, axis=0)\\n\\nno_outliers_data = [x for x in data if (x > mean - 2 * sd)]\\nno_outliers_data = [x for x in no_outliers_data if (x < mean + 2 * sd)]\\n'"
      ]
     },
     "execution_count": 15,
     "metadata": {},
     "output_type": "execute_result"
    }
   ],
   "source": [
    "#an attempt at removing outliers-- Maria said we don't really have to but I think it might help with some visualizations\n",
    "\"\"\"\n",
    "mean = np.mean(data, axis=0)\n",
    "sd = np.std(data, axis=0)\n",
    "\n",
    "no_outliers_data = [x for x in data if (x > mean - 2 * sd)]\n",
    "no_outliers_data = [x for x in no_outliers_data if (x < mean + 2 * sd)]\n",
    "\"\"\""
   ]
  },
  {
   "cell_type": "code",
   "execution_count": 14,
   "metadata": {},
   "outputs": [
    {
     "data": {
      "text/plain": [
       "<matplotlib.collections.PathCollection at 0x1a14e5cf60>"
      ]
     },
     "execution_count": 14,
     "metadata": {},
     "output_type": "execute_result"
    },
    {
     "data": {
      "image/png": "[encoded data removed]",
      "text/plain": [
       "<matplotlib.figure.Figure at 0x1a0c53c6a0>"
      ]
     },
     "metadata": {},
     "output_type": "display_data"
    }
   ],
   "source": [
    "plt.scatter(data.duration, target, alpha=0.5)"
   ]
  },
  {
   "cell_type": "code",
   "execution_count": 16,
   "metadata": {},
   "outputs": [
    {
     "data": {
      "text/plain": [
       "<matplotlib.axes._subplots.AxesSubplot at 0x1a0c5705f8>"
      ]
     },
     "execution_count": 16,
     "metadata": {},
     "output_type": "execute_result"
    },
    {
     "data": {
      "image/png": "[encoded data removed]",
      "text/plain": [
       "<matplotlib.figure.Figure at 0x1a14f41278>"
      ]
     },
     "metadata": {},
     "output_type": "display_data"
    }
   ],
   "source": [
    "f, ax = plt.subplots(figsize = (14,8))\n",
    "sns.regplot(x=\"published_date\", y=\"views\", data=data)"
   ]
  },
  {
   "cell_type": "code",
   "execution_count": 7,
   "metadata": {
    "collapsed": true
   },
   "outputs": [],
   "source": [
    "df = data.drop(['Unnamed: 0', 'speaker_occupation', 'title', 'views'], axis=1)"
   ]
  },
  {
   "cell_type": "code",
   "execution_count": 8,
   "metadata": {},
   "outputs": [
    {
     "name": "stdout",
     "output_type": "stream",
     "text": [
      "<class 'pandas.core.frame.DataFrame'>\n",
      "RangeIndex: 2550 entries, 0 to 2549\n",
      "Data columns (total 24 columns):\n",
      "comments                                 2550 non-null int64\n",
      "duration                                 2550 non-null int64\n",
      "languages                                2550 non-null int64\n",
      "published_date                           2550 non-null int64\n",
      "Positive                                 2550 non-null int64\n",
      "Negative                                 2550 non-null int64\n",
      "Moderate                                 2550 non-null int64\n",
      "related_views                            2550 non-null int64\n",
      "event_class                              2550 non-null object\n",
      "Humanity/Progress_tag                    2550 non-null int64\n",
      "arts/creativity_tag                      2550 non-null int64\n",
      "philanthropy/religion_tag                2550 non-null int64\n",
      "music_tag                                2550 non-null int64\n",
      "Global issues_tag                        2550 non-null int64\n",
      "Scientific Fields_tag                    2550 non-null int64\n",
      "media/entertainment_tag                  2550 non-null int64\n",
      "Organizing/Perceiving Information_tag    2550 non-null int64\n",
      "Middle East_tag                          2550 non-null int64\n",
      "Epidemics_tag                            2550 non-null int64\n",
      "Outer-Space_tag                          2550 non-null int64\n",
      "Vices/Prejudices_tag                     2550 non-null int64\n",
      "exploration_tag                          2550 non-null int64\n",
      "robots/prosthetics_tag                   2550 non-null int64\n",
      "animals/organisms_tag                    2550 non-null int64\n",
      "dtypes: int64(23), object(1)\n",
      "memory usage: 478.2+ KB\n"
     ]
    }
   ],
   "source": [
    "df.info()"
   ]
  },
  {
   "cell_type": "code",
   "execution_count": 9,
   "metadata": {
    "collapsed": true
   },
   "outputs": [],
   "source": [
    "df = pd.get_dummies(df)"
   ]
  },
  {
   "cell_type": "code",
   "execution_count": 10,
   "metadata": {},
   "outputs": [
    {
     "data": {
      "text/html": [
       "<div>\n",
       "<style>\n",
       "    .dataframe thead tr:only-child th {\n",
       "        text-align: right;\n",
       "    }\n",
       "\n",
       "    .dataframe thead th {\n",
       "        text-align: left;\n",
       "    }\n",
       "\n",
       "    .dataframe tbody tr th {\n",
       "        vertical-align: top;\n",
       "    }\n",
       "</style>\n",
       "<table border=\"1\" class=\"dataframe\">\n",
       "  <thead>\n",
       "    <tr style=\"text-align: right;\">\n",
       "      <th></th>\n",
       "      <th>comments</th>\n",
       "      <th>duration</th>\n",
       "      <th>languages</th>\n",
       "      <th>published_date</th>\n",
       "      <th>Positive</th>\n",
       "      <th>Negative</th>\n",
       "      <th>Moderate</th>\n",
       "      <th>related_views</th>\n",
       "      <th>Humanity/Progress_tag</th>\n",
       "      <th>arts/creativity_tag</th>\n",
       "      <th>...</th>\n",
       "      <th>exploration_tag</th>\n",
       "      <th>robots/prosthetics_tag</th>\n",
       "      <th>animals/organisms_tag</th>\n",
       "      <th>event_class_Other</th>\n",
       "      <th>event_class_TEDGlobal</th>\n",
       "      <th>event_class_TEDNYC</th>\n",
       "      <th>event_class_TEDSalon</th>\n",
       "      <th>event_class_TEDWomen</th>\n",
       "      <th>event_class_TEDx</th>\n",
       "      <th>event_class_Yearly TED Conference</th>\n",
       "    </tr>\n",
       "  </thead>\n",
       "  <tbody>\n",
       "    <tr>\n",
       "      <th>0</th>\n",
       "      <td>4553</td>\n",
       "      <td>1164</td>\n",
       "      <td>60</td>\n",
       "      <td>1151367060</td>\n",
       "      <td>91538</td>\n",
       "      <td>1138</td>\n",
       "      <td>1174</td>\n",
       "      <td>3027062</td>\n",
       "      <td>1</td>\n",
       "      <td>1</td>\n",
       "      <td>...</td>\n",
       "      <td>0</td>\n",
       "      <td>0</td>\n",
       "      <td>0</td>\n",
       "      <td>0</td>\n",
       "      <td>0</td>\n",
       "      <td>0</td>\n",
       "      <td>0</td>\n",
       "      <td>0</td>\n",
       "      <td>0</td>\n",
       "      <td>1</td>\n",
       "    </tr>\n",
       "    <tr>\n",
       "      <th>1</th>\n",
       "      <td>265</td>\n",
       "      <td>977</td>\n",
       "      <td>43</td>\n",
       "      <td>1151367060</td>\n",
       "      <td>2169</td>\n",
       "      <td>564</td>\n",
       "      <td>203</td>\n",
       "      <td>1118767</td>\n",
       "      <td>1</td>\n",
       "      <td>0</td>\n",
       "      <td>...</td>\n",
       "      <td>0</td>\n",
       "      <td>0</td>\n",
       "      <td>0</td>\n",
       "      <td>0</td>\n",
       "      <td>0</td>\n",
       "      <td>0</td>\n",
       "      <td>0</td>\n",
       "      <td>0</td>\n",
       "      <td>0</td>\n",
       "      <td>1</td>\n",
       "    </tr>\n",
       "    <tr>\n",
       "      <th>2</th>\n",
       "      <td>124</td>\n",
       "      <td>1286</td>\n",
       "      <td>26</td>\n",
       "      <td>1151367060</td>\n",
       "      <td>2327</td>\n",
       "      <td>351</td>\n",
       "      <td>146</td>\n",
       "      <td>1846195</td>\n",
       "      <td>1</td>\n",
       "      <td>0</td>\n",
       "      <td>...</td>\n",
       "      <td>0</td>\n",
       "      <td>0</td>\n",
       "      <td>0</td>\n",
       "      <td>0</td>\n",
       "      <td>0</td>\n",
       "      <td>0</td>\n",
       "      <td>0</td>\n",
       "      <td>0</td>\n",
       "      <td>0</td>\n",
       "      <td>1</td>\n",
       "    </tr>\n",
       "    <tr>\n",
       "      <th>3</th>\n",
       "      <td>200</td>\n",
       "      <td>1116</td>\n",
       "      <td>35</td>\n",
       "      <td>1151367060</td>\n",
       "      <td>3487</td>\n",
       "      <td>156</td>\n",
       "      <td>85</td>\n",
       "      <td>776189</td>\n",
       "      <td>1</td>\n",
       "      <td>0</td>\n",
       "      <td>...</td>\n",
       "      <td>0</td>\n",
       "      <td>0</td>\n",
       "      <td>0</td>\n",
       "      <td>0</td>\n",
       "      <td>0</td>\n",
       "      <td>0</td>\n",
       "      <td>0</td>\n",
       "      <td>0</td>\n",
       "      <td>0</td>\n",
       "      <td>1</td>\n",
       "    </tr>\n",
       "    <tr>\n",
       "      <th>4</th>\n",
       "      <td>593</td>\n",
       "      <td>1190</td>\n",
       "      <td>48</td>\n",
       "      <td>1151440680</td>\n",
       "      <td>25062</td>\n",
       "      <td>310</td>\n",
       "      <td>248</td>\n",
       "      <td>1907337</td>\n",
       "      <td>1</td>\n",
       "      <td>0</td>\n",
       "      <td>...</td>\n",
       "      <td>0</td>\n",
       "      <td>0</td>\n",
       "      <td>0</td>\n",
       "      <td>0</td>\n",
       "      <td>0</td>\n",
       "      <td>0</td>\n",
       "      <td>0</td>\n",
       "      <td>0</td>\n",
       "      <td>0</td>\n",
       "      <td>1</td>\n",
       "    </tr>\n",
       "  </tbody>\n",
       "</table>\n",
       "<p>5 rows × 30 columns</p>\n",
       "</div>"
      ],
      "text/plain": [
       "   comments  duration  languages  published_date  Positive  Negative  \\\n",
       "0      4553      1164         60      1151367060     91538      1138   \n",
       "1       265       977         43      1151367060      2169       564   \n",
       "2       124      1286         26      1151367060      2327       351   \n",
       "3       200      1116         35      1151367060      3487       156   \n",
       "4       593      1190         48      1151440680     25062       310   \n",
       "\n",
       "   Moderate  related_views  Humanity/Progress_tag  arts/creativity_tag  \\\n",
       "0      1174        3027062                      1                    1   \n",
       "1       203        1118767                      1                    0   \n",
       "2       146        1846195                      1                    0   \n",
       "3        85         776189                      1                    0   \n",
       "4       248        1907337                      1                    0   \n",
       "\n",
       "                 ...                  exploration_tag  robots/prosthetics_tag  \\\n",
       "0                ...                                0                       0   \n",
       "1                ...                                0                       0   \n",
       "2                ...                                0                       0   \n",
       "3                ...                                0                       0   \n",
       "4                ...                                0                       0   \n",
       "\n",
       "   animals/organisms_tag  event_class_Other  event_class_TEDGlobal  \\\n",
       "0                      0                  0                      0   \n",
       "1                      0                  0                      0   \n",
       "2                      0                  0                      0   \n",
       "3                      0                  0                      0   \n",
       "4                      0                  0                      0   \n",
       "\n",
       "   event_class_TEDNYC  event_class_TEDSalon  event_class_TEDWomen  \\\n",
       "0                   0                     0                     0   \n",
       "1                   0                     0                     0   \n",
       "2                   0                     0                     0   \n",
       "3                   0                     0                     0   \n",
       "4                   0                     0                     0   \n",
       "\n",
       "   event_class_TEDx  event_class_Yearly TED Conference  \n",
       "0                 0                                  1  \n",
       "1                 0                                  1  \n",
       "2                 0                                  1  \n",
       "3                 0                                  1  \n",
       "4                 0                                  1  \n",
       "\n",
       "[5 rows x 30 columns]"
      ]
     },
     "execution_count": 10,
     "metadata": {},
     "output_type": "execute_result"
    }
   ],
   "source": [
    "df.head()"
   ]
  },
  {
   "cell_type": "code",
   "execution_count": 12,
   "metadata": {},
   "outputs": [
    {
     "name": "stdout",
     "output_type": "stream",
     "text": [
      "<class 'pandas.core.frame.DataFrame'>\n",
      "RangeIndex: 2550 entries, 0 to 2549\n",
      "Data columns (total 30 columns):\n",
      "comments                                 2550 non-null int64\n",
      "duration                                 2550 non-null int64\n",
      "languages                                2550 non-null int64\n",
      "published_date                           2550 non-null int64\n",
      "Positive                                 2550 non-null int64\n",
      "Negative                                 2550 non-null int64\n",
      "Moderate                                 2550 non-null int64\n",
      "related_views                            2550 non-null int64\n",
      "Humanity/Progress_tag                    2550 non-null int64\n",
      "arts/creativity_tag                      2550 non-null int64\n",
      "philanthropy/religion_tag                2550 non-null int64\n",
      "music_tag                                2550 non-null int64\n",
      "Global issues_tag                        2550 non-null int64\n",
      "Scientific Fields_tag                    2550 non-null int64\n",
      "media/entertainment_tag                  2550 non-null int64\n",
      "Organizing/Perceiving Information_tag    2550 non-null int64\n",
      "Middle East_tag                          2550 non-null int64\n",
      "Epidemics_tag                            2550 non-null int64\n",
      "Outer-Space_tag                          2550 non-null int64\n",
      "Vices/Prejudices_tag                     2550 non-null int64\n",
      "exploration_tag                          2550 non-null int64\n",
      "robots/prosthetics_tag                   2550 non-null int64\n",
      "animals/organisms_tag                    2550 non-null int64\n",
      "event_class_Other                        2550 non-null uint8\n",
      "event_class_TEDGlobal                    2550 non-null uint8\n",
      "event_class_TEDNYC                       2550 non-null uint8\n",
      "event_class_TEDSalon                     2550 non-null uint8\n",
      "event_class_TEDWomen                     2550 non-null uint8\n",
      "event_class_TEDx                         2550 non-null uint8\n",
      "event_class_Yearly TED Conference        2550 non-null uint8\n",
      "dtypes: int64(23), uint8(7)\n",
      "memory usage: 475.7 KB\n"
     ]
    }
   ],
   "source": [
    "df.info()"
   ]
  },
  {
   "cell_type": "code",
   "execution_count": null,
   "metadata": {
    "collapsed": true
   },
   "outputs": [],
   "source": [
    "#drop features we don't know about beforehand\n",
    "df = df.drop(['comments', 'languages', 'Positive', 'Negative', 'Moderate', 'related_views'], axis=1)"
   ]
  },
  {
   "cell_type": "code",
   "execution_count": null,
   "metadata": {
    "collapsed": true
   },
   "outputs": [],
   "source": [
    "from sklearn.linear_model import SGDRegressor\n",
    "from sklearn.metrics import mean_squared_error\n",
    "from sklearn.preprocessing import StandardScaler"
   ]
  },
  {
   "cell_type": "code",
   "execution_count": null,
   "metadata": {},
   "outputs": [],
   "source": [
    "from sklearn.model_selection import train_test_split\n",
    "\n",
    "X_train, X_test, y_train, y_test = train_test_split(df, target, test_size=0.2, random_state=42)"
   ]
  },
  {
   "cell_type": "code",
   "execution_count": null,
   "metadata": {
    "collapsed": true
   },
   "outputs": [],
   "source": [
    "scaler = StandardScaler()\n",
    "scaler.fit(X_train)\n",
    "X_train = scaler.transform(X_train)\n",
    "X_test = scaler.transform(X_test)"
   ]
  },
  {
   "cell_type": "markdown",
   "metadata": {},
   "source": [
    "# Modeling"
   ]
  },
  {
   "cell_type": "markdown",
   "metadata": {},
   "source": [
    "## Linear Regression"
   ]
  },
  {
   "cell_type": "code",
   "execution_count": null,
   "metadata": {},
   "outputs": [],
   "source": [
    "#Basic Linear Regression\n",
    "linear_regression_model = SGDRegressor(tol=.0001, eta0=.01)\n",
    "linear_regression_model.fit(X_train, y_train)\n",
    "predictions = linear_regression_model.predict(X_train)\n",
    "mse = mean_squared_error(y_train, predictions)\n",
    "print(\"RMSE: {}\".format(np.sqrt(mse)))"
   ]
  },
  {
   "cell_type": "code",
   "execution_count": null,
   "metadata": {},
   "outputs": [],
   "source": [
    "#change to RMSE?\n",
    "#Linear Regression with Grid Search\n",
    "from sklearn.model_selection import RandomizedSearchCV\n",
    "from sklearn.model_selection import GridSearchCV\n",
    "\n",
    "param_dist = {\"eta0\": [ .001, .003, .01, .03, .1, .3, 1, 3]}\n",
    "\n",
    "linear_regression_model = SGDRegressor(tol=.0001, max_iter=10000)\n",
    "\n",
    "grid_search = GridSearchCV(linear_regression_model, param_grid=param_dist, cv=5, scoring='neg_mean_squared_error')\n",
    "grid_search.fit(X_train, y_train)\n",
    "\n",
    "print(\"Best Parameters: {}\".format(grid_search.best_params_))\n",
    "print(\"Best RMSE: {}\".format(np.sqrt(np.absolute(grid_search.best_score_))))"
   ]
  },
  {
   "cell_type": "markdown",
   "metadata": {},
   "source": [
    "## Regularization"
   ]
  },
  {
   "cell_type": "code",
   "execution_count": null,
   "metadata": {},
   "outputs": [],
   "source": [
    "from sklearn.linear_model import ElasticNetCV\n",
    "\n",
    "# l1 ratio of zero is l2 and visa-versa \n",
    "# alphas are how much to weight regularization\n",
    "clf = ElasticNetCV(l1_ratio=[.1, .5, .7, .9, .95, .99, 1], alphas=[.1, 1, 10])\n",
    "clf.fit(X_train, y_train)\n",
    "train_predictions = clf.predict(X_train)\n",
    "test_predictions = clf.predict(X_test)\n",
    "print(\"Train RMSE: {}\".format(np.sqrt(mean_squared_error(y_train, train_predictions))))\n",
    "print(\"Test RMSE: {}\".format(np.sqrt(mean_squared_error(y_test, test_predictions))))"
   ]
  },
  {
   "cell_type": "markdown",
   "metadata": {},
   "source": [
    "## K-Nearest Neighbors Regressor"
   ]
  },
  {
   "cell_type": "code",
   "execution_count": null,
   "metadata": {
    "collapsed": true
   },
   "outputs": [],
   "source": [
    "from sklearn.neighbors import KNeighborsClassifier, KNeighborsRegressor\n",
    "from sklearn.model_selection import train_test_split, GridSearchCV\n",
    "from sklearn.metrics import f1_score, classification_report, accuracy_score, mean_squared_error"
   ]
  },
  {
   "cell_type": "code",
   "execution_count": null,
   "metadata": {},
   "outputs": [],
   "source": [
    "# Code from K Nearest Neighbors lecture notes\n",
    "reg = KNeighborsRegressor()\n",
    "knn_gridsearch = GridSearchCV(reg, {\"n_neighbors\": [1, 3, 5, 7, 9, 11], \"weights\": ['uniform', 'distance'], \n",
    "                                'p': [1, 2, 3]}, scoring='neg_mean_squared_error')\n",
    "knn_gridsearch.fit(X_train, y_train)\n",
    "print(\"Best Params: {}\".format(knn_gridsearch.best_params_))\n",
    "y_pred_train = knn_gridsearch.predict(X_train)\n",
    "y_pred_test = knn_gridsearch.predict(X_test)\n",
    "print(\"Train RMSE: {}\\tTest RMSE: {}\".format(np.sqrt(mean_squared_error(y_train, y_pred_train)),\n",
    "                                           np.sqrt(mean_squared_error(y_test, y_pred_test))))"
   ]
  },
  {
   "cell_type": "markdown",
   "metadata": {
    "collapsed": true
   },
   "source": [
    "## Random Forest Regression"
   ]
  },
  {
   "cell_type": "code",
   "execution_count": null,
   "metadata": {
    "collapsed": true
   },
   "outputs": [],
   "source": []
  },
  {
   "cell_type": "markdown",
   "metadata": {},
   "source": [
    "## NEXT STEPS"
   ]
  },
  {
   "cell_type": "markdown",
   "metadata": {},
   "source": [
    "1. Convert timestamp to date, visualize views by date published\n",
    "2. Try more models\n",
    "3. Maybe make a graph comparing RMSEs for each model\n",
    "4. Compare coefficients to find best predictors"
   ]
  }
 ],
 "metadata": {
  "kernelspec": {
   "display_name": "Python 3",
   "language": "python",
   "name": "python3"
  },
  "language_info": {
   "codemirror_mode": {
    "name": "ipython",
    "version": 3
   },
   "file_extension": ".py",
   "mimetype": "text/x-python",
   "name": "python",
   "nbconvert_exporter": "python",
   "pygments_lexer": "ipython3",
   "version": "3.6.3"
  }
 },
 "nbformat": 4,
 "nbformat_minor": 2
}
